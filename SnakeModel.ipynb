{
  "nbformat": 4,
  "nbformat_minor": 0,
  "metadata": {
    "kernelspec": {
      "display_name": "Python 3",
      "language": "python",
      "name": "python3"
    },
    "language_info": {
      "codemirror_mode": {
        "name": "ipython",
        "version": 3
      },
      "file_extension": ".py",
      "mimetype": "text/x-python",
      "name": "python",
      "nbconvert_exporter": "python",
      "pygments_lexer": "ipython3",
      "version": "3.8.5"
    },
    "colab": {
      "name": "SnakeModel.ipynb",
      "provenance": [],
      "collapsed_sections": [],
      "include_colab_link": true
    },
    "accelerator": "GPU"
  },
  "cells": [
    {
      "cell_type": "markdown",
      "metadata": {
        "id": "view-in-github",
        "colab_type": "text"
      },
      "source": [
        "<a href=\"https://colab.research.google.com/github/jakesnakelou/GamesAI/blob/main/SnakeModel.ipynb\" target=\"_parent\"><img src=\"https://colab.research.google.com/assets/colab-badge.svg\" alt=\"Open In Colab\"/></a>"
      ]
    },
    {
      "cell_type": "code",
      "metadata": {
        "id": "tERCcG4gpTik"
      },
      "source": [
        "data.keys()"
      ],
      "execution_count": null,
      "outputs": []
    },
    {
      "cell_type": "code",
      "metadata": {
        "id": "xLOQTDbQJ5sK",
        "colab": {
          "base_uri": "https://localhost:8080/"
        },
        "outputId": "69c20d33-0720-406f-9162-f2780f235827"
      },
      "source": [
        "pip install torchmetrics"
      ],
      "execution_count": 1,
      "outputs": [
        {
          "output_type": "stream",
          "text": [
            "Collecting torchmetrics\n",
            "\u001b[?25l  Downloading https://files.pythonhosted.org/packages/4d/8b/de8df9044ca2ac5dfc6b13b9ad3b3ebe6b3a45807311102b569d680e811f/torchmetrics-0.4.1-py3-none-any.whl (234kB)\n",
            "\r\u001b[K     |█▍                              | 10kB 11.7MB/s eta 0:00:01\r\u001b[K     |██▉                             | 20kB 17.7MB/s eta 0:00:01\r\u001b[K     |████▏                           | 30kB 20.9MB/s eta 0:00:01\r\u001b[K     |█████▋                          | 40kB 17.3MB/s eta 0:00:01\r\u001b[K     |███████                         | 51kB 8.8MB/s eta 0:00:01\r\u001b[K     |████████▍                       | 61kB 9.3MB/s eta 0:00:01\r\u001b[K     |█████████▊                      | 71kB 9.1MB/s eta 0:00:01\r\u001b[K     |███████████▏                    | 81kB 8.9MB/s eta 0:00:01\r\u001b[K     |████████████▋                   | 92kB 9.3MB/s eta 0:00:01\r\u001b[K     |██████████████                  | 102kB 8.5MB/s eta 0:00:01\r\u001b[K     |███████████████▍                | 112kB 8.5MB/s eta 0:00:01\r\u001b[K     |████████████████▊               | 122kB 8.5MB/s eta 0:00:01\r\u001b[K     |██████████████████▏             | 133kB 8.5MB/s eta 0:00:01\r\u001b[K     |███████████████████▌            | 143kB 8.5MB/s eta 0:00:01\r\u001b[K     |█████████████████████           | 153kB 8.5MB/s eta 0:00:01\r\u001b[K     |██████████████████████▎         | 163kB 8.5MB/s eta 0:00:01\r\u001b[K     |███████████████████████▊        | 174kB 8.5MB/s eta 0:00:01\r\u001b[K     |█████████████████████████▏      | 184kB 8.5MB/s eta 0:00:01\r\u001b[K     |██████████████████████████▌     | 194kB 8.5MB/s eta 0:00:01\r\u001b[K     |████████████████████████████    | 204kB 8.5MB/s eta 0:00:01\r\u001b[K     |█████████████████████████████▎  | 215kB 8.5MB/s eta 0:00:01\r\u001b[K     |██████████████████████████████▊ | 225kB 8.5MB/s eta 0:00:01\r\u001b[K     |████████████████████████████████| 235kB 8.5MB/s \n",
            "\u001b[?25hRequirement already satisfied: numpy>=1.17.2 in /usr/local/lib/python3.7/dist-packages (from torchmetrics) (1.19.5)\n",
            "Requirement already satisfied: torch>=1.3.1 in /usr/local/lib/python3.7/dist-packages (from torchmetrics) (1.9.0+cu102)\n",
            "Requirement already satisfied: packaging in /usr/local/lib/python3.7/dist-packages (from torchmetrics) (20.9)\n",
            "Requirement already satisfied: typing-extensions in /usr/local/lib/python3.7/dist-packages (from torch>=1.3.1->torchmetrics) (3.7.4.3)\n",
            "Requirement already satisfied: pyparsing>=2.0.2 in /usr/local/lib/python3.7/dist-packages (from packaging->torchmetrics) (2.4.7)\n",
            "Installing collected packages: torchmetrics\n",
            "Successfully installed torchmetrics-0.4.1\n"
          ],
          "name": "stdout"
        }
      ]
    },
    {
      "cell_type": "code",
      "metadata": {
        "id": "KPYjqMtSJ1B-"
      },
      "source": [
        "from random import randint\n",
        "import numpy as np\n",
        "import pandas as pd\n",
        "import json\n",
        "import time\n",
        "import torch\n",
        "import torchmetrics\n",
        "import pandas as pd\n",
        "pd.set_option('display.float_format',lambda x: '%.5f' % x)\n",
        "np.set_printoptions(threshold=np. inf,suppress=True, precision=4)"
      ],
      "execution_count": 85,
      "outputs": []
    },
    {
      "cell_type": "code",
      "metadata": {
        "id": "bpkzznA9J1CG"
      },
      "source": [
        "'''Here we create a dataset object that allows to access the different elements of our data\n",
        "In: Arrays: image, DirectionPointing, compassMoves,FirstPersonMoves, Reward\n",
        "Out: [All inputs in a Class that is callable]\n",
        "'''\n",
        "\n",
        "class Dataset(torch.utils.data.Dataset):\n",
        "    def __init__(self, image, DirectionPointing, CompassMoves, FirstPersonMoves, y):\n",
        "        self.image = image.astype('float')\n",
        "        self.DirectionPointing = DirectionPointing.astype('float')\n",
        "        self.CompassMoves = CompassMoves.astype('float')\n",
        "        self.FirstPersonMoves = FirstPersonMoves.astype('float')        \n",
        "        self.y = y.astype('float')\n",
        "\n",
        "    # Not dependent on index+\n",
        "    def __getitem__(self, index):\n",
        "        return self.image[index],self.DirectionPointing[index],self.CompassMoves[index], self.FirstPersonMoves[index], self.y[index]\n",
        "\n",
        "    def __len__(self):\n",
        "        return len(self.y)"
      ],
      "execution_count": 2,
      "outputs": []
    },
    {
      "cell_type": "code",
      "metadata": {
        "id": "rJxUr12nJ1CH"
      },
      "source": [
        "'''\n",
        "Take our Dataset, split the data, and put them into dataloaders\n",
        "In: Dataset class, Train split, val split, batchsize\n",
        "Out: [Dictionary 1: train dataset, val dataset, test dataset\n",
        "      Dictionary 2: train dataloader, val dataloader, test dataloader \n",
        "    ]\n",
        "'''\n",
        "\n",
        "\n",
        "def DatasetsAndDataloaders(dataset, train_perc, val_perc, batch_size):\n",
        "    \n",
        "    def create_TTV_splits(train_perc, val_perc,dataset):\n",
        "        assert train_perc + val_perc < 1, 'val and train percent should add up to <1'\n",
        "        length = len(dataset)\n",
        "        trainSize = int(train_perc * length)\n",
        "        TestValSize = int(length - trainSize)\n",
        "        valSize = int(val_perc * length)\n",
        "        TestSize = int(TestValSize - valSize)\n",
        "\n",
        "        train_dataset, validation_dataset = torch.utils.data.random_split(\n",
        "            dataset, [trainSize, TestValSize])  ## split into 1000 training & 797 validation\n",
        "        validation_dataset, test_dataset  = torch.utils.data.random_split(\n",
        "            validation_dataset, [valSize, TestSize])  ## get test set from validation set\n",
        "\n",
        "        return train_dataset, validation_dataset, test_dataset\n",
        "\n",
        "    def create_dataloaders(train_dataset, validation_dataset, test_dataset, batch_size):\n",
        "        train_dataloader = torch.utils.data.DataLoader(train_dataset, batch_size=batch_size, )   ### dataloader batches the data\n",
        "        val_dataloader = torch.utils.data.DataLoader(validation_dataset, batch_size=batch_size)\n",
        "        test_dataloader = torch.utils.data.DataLoader(test_dataset, batch_size=batch_size)\n",
        "        return train_dataloader, val_dataloader, test_dataloader\n",
        "    \n",
        "    datasets, dataloaders = {}, {}\n",
        "    train_dataset, validation_dataset, test_dataset = create_TTV_splits(train_perc, val_perc, dataset)\n",
        "    train_dataloader, val_dataloader, test_dataloader = create_dataloaders(train_dataset, validation_dataset, test_dataset, batch_size)\n",
        "    \n",
        "    datasets['train'], datasets['val'], datasets['test'] = train_dataset, validation_dataset, test_dataset\n",
        "    dataloaders['train'], dataloaders['val'], dataloaders['test'] = train_dataloader, val_dataloader, test_dataloader\n",
        "    return datasets, dataloaders"
      ],
      "execution_count": 3,
      "outputs": []
    },
    {
      "cell_type": "code",
      "metadata": {
        "id": "l0nNlyrFJ1CC"
      },
      "source": [
        "'''Set of functions that convert the snake data into usable arrays\n",
        "\n",
        "In: Dictionary -----> data, ArrayMax(estimate_of_size), Reward parameters. \n",
        "Out: Image, DirectionPointing, Compassmoves, FirstPersonMoves, reward ---> Arrays\n",
        "'''\n",
        "\n",
        "######  Master Function that calls all functions below\n",
        "\n",
        "def CreateAllXYInputs(data, ArrayMax, EatReward, EatDecayRate, EatDecayPeriod, DieReward, FutureReward):\n",
        "    Images,frames =  CreateImagesAllGames(ArrayMax,data)\n",
        "    FirstPersonMoves = CreateDirectionArrayManyGames(data,ArrayMax,'FaceDirectionChoice',3)\n",
        "    CompassMoves = CreateDirectionArrayManyGames(data,ArrayMax,'CompassDirectionChoice',4)\n",
        "    DirectionPointing = CreateDirectionArrayManyGames(data,ArrayMax, 'StartingDirection',4)\n",
        "    reward = CreateBigArrayofRewardFromManyGames(data, EatReward, EatDecayRate, EatDecayPeriod, DieReward, FutureReward)\n",
        "    Images, FirstPersonMoves, reward, DirectionPointing, CompassMoves =Images[:frames], FirstPersonMoves[:frames], reward[:frames], DirectionPointing[:frames], CompassMoves[:frames]\n",
        "    return Images, DirectionPointing, CompassMoves, FirstPersonMoves, reward\n",
        "\n",
        "\n",
        "###Helper: The Dictionary keys that list the moves made are strings. To look at them sequentially we need to them to be integers\n",
        "def TurnDictKeysToInt(data,instance,dic):\n",
        "    return {int(k):v for k,v in data[instance][dic].items()}\n",
        "\n",
        "################################################################################################################ \n",
        "##\n",
        "##  Function that takes the body and food values for all games, and turns them into a 20x20x3 array \n",
        "# #\n",
        "\n",
        "def CreateImagesAllGames(ArrayMax, data):\n",
        "\n",
        "    ###Helper function that convers the body and food values for ONE game.\n",
        "\n",
        "    def CreateImageForOneGame(instance,data): ###Array Max is how big we set the initial array of all zeros, that gets populated.\n",
        "        IntegerKeysDictBody = TurnDictKeysToInt(data,instance,'body')\n",
        "        IntegerKeysDictFood = TurnDictKeysToInt(data,instance,'FoodPos')\n",
        "        plays = len(IntegerKeysDictBody)\n",
        "        image = np.zeros((plays,3,20,20))\n",
        "\n",
        "        ###Channel 1 = Tail, Channel 2 = Head, Channel 3 = Food\n",
        "        for key, value in IntegerKeysDictBody.items():\n",
        "            for idx, point in enumerate(value):\n",
        "                y = 20-point[0] ### when we 'view' our game like the snake.py, y is at the top\n",
        "                x = point[1]-1 ### In our snake game, the arrays start at 1, and go to 20. We want 0->19\n",
        "                if idx != 0:            #tail\n",
        "                    image[int(key),0,y,x] =1\n",
        "                if idx == 0:            #head\n",
        "                    image[int(key),1,y,x] =1          \n",
        "\n",
        "        for key, value in IntegerKeysDictFood.items():    #food\n",
        "            y = 20-value[0] #-1 because the stored array starts at 1, instead of 0\n",
        "            x = value[1]-1\n",
        "            image[int(key),2,y,x] =1 \n",
        "\n",
        "        return image\n",
        "    \n",
        "    AllGamesImage = np.zeros((ArrayMax,3,20,20))\n",
        "    frames_start=0 ###We need to keep a track of how many frames we have in case we use more than the size of the array we specified in array max.\n",
        "    for game in data.keys():\n",
        "        tempArray = CreateImageForOneGame(game,data) \n",
        "        frames_end = frames_start+ (len(tempArray)) #to create start and end for storing the x values\n",
        "        #if there are two many values compared to max array, we end the function there.\n",
        "        if frames_end > ArrayMax:\n",
        "            return AllGamesImage, frames_start\n",
        "        AllGamesImage[frames_start:frames_end] = tempArray\n",
        "        frames_start = frames_end #set frames start to frames end for next iteration\n",
        "    return AllGamesImage, frames_end\n",
        "\n",
        "################################################################################################################ \n",
        "##\n",
        "##  Functions that take Current Direction Faced, Compass Choice and turn them into one arrays with dummy variables\n",
        "# #\n",
        "\n",
        "####Helper function that turns integer based direction to dummy(Hot) variables\n",
        "def TurnDirectionsToHot(HotDict,Options):\n",
        "        moves = np.array(list(HotDict.values()))        \n",
        "        HotMoves = np.zeros((len(moves),Options-1))\n",
        "        for idx, move in enumerate(moves):\n",
        "          if move!=0:\n",
        "            HotMoves[idx,move-1] = 1 #if move==0, nothing is set, if move=1(right), index(0) is set etc.\n",
        "        return HotMoves\n",
        "\n",
        "def CreateDirectionArrayManyGames(data, ArrayMax, OrigDictKey, NoOfOptions):\n",
        "    frames_start = 0\n",
        "    AllGamesDirections = np.zeros((ArrayMax,NoOfOptions-1))\n",
        "    for game in data.keys():\n",
        "        IntegerKeysDictDirections = TurnDictKeysToInt(data, game, OrigDictKey)\n",
        "        tempArray = TurnDirectionsToHot(IntegerKeysDictDirections, NoOfOptions)\n",
        "        frames_end = frames_start + (len(tempArray)) #to create start and end for storing the x values\n",
        "        if frames_end > ArrayMax:\n",
        "            return AllGamesDirections\n",
        "        AllGamesDirections[frames_start:frames_end] = tempArray\n",
        "        frames_start = frames_end #set frames start to frames end for next iteration\n",
        "    return AllGamesDirections ##1+ because the first value is all 0s from when we created the np.zeros array.\n",
        "\n",
        "################################################################################################################ \n",
        "##\n",
        "##  Function that converts the list of 'current score' into a reward function\n",
        "# #\n",
        "\n",
        "def CreateBigArrayofRewardFromManyGames(data, EatReward, EatDecayRate, EatDecayPeriod, DieReward, FutureReward):\n",
        "    '''\n",
        "    Eat Reward: The reward for eating food on a particular turn\n",
        "    EatDecayRate: The decay rate of reward to previous values\n",
        "    EatDecayPeriod: How long to assign reward historically (previous steps before the step of actually eating)\n",
        "    Die Reward: The reward(negative value) for dying on a particular turn.\n",
        "    Future Reward: currently redundant\n",
        "    '''\n",
        "    ####Helper function to calculate reward for one game.\n",
        "    def reward(instance,data, EatReward,EatDecayRate, EatDecayPeriod, DieReward, FutureReward):\n",
        "        IntegerKeysDictReward = TurnDictKeysToInt(data,instance,'CurrentScore')\n",
        "        CurrentScore = np.array(list(IntegerKeysDictReward.values())).astype('float')\n",
        "  \n",
        "        ####Convert Current Score to moments of Eating food. Take [1:] slice because score is captured in the following game state\n",
        "        MovesThatCaptureFood = (CurrentScore[1:] - CurrentScore[:len(CurrentScore)-1])*EatReward\n",
        "        RewardTotal = MovesThatCaptureFood.copy()\n",
        "        for i in range(EatDecayPeriod):\n",
        "            ##Take reward from moves i in the future, and apply a powered decay rate\n",
        "            DecayedReward = np.append(MovesThatCaptureFood[i+1:],np.zeros((i+1)))*(EatDecayRate)**(i+1)\n",
        "            ##Add this Decayed Reward to the previous reward a move had\n",
        "            RewardTotal += DecayedReward\n",
        "        #so total reward is +4 for capturing food, and + 1 for all future food\n",
        "        RewardArray = np.append(RewardTotal,np.array([0])) ##append 0 because we previously just took [1:]\n",
        "        RewardArray[len(RewardArray)-1] = DieReward #sets final element in sequence to die reward\n",
        "        return RewardArray\n",
        "\n",
        "    AllGamesReward = np.zeros((1,)).astype('float')\n",
        "    for game in data.keys():\n",
        "        tempArray = reward(game, data, EatReward,EatDecayRate, EatDecayPeriod, DieReward, FutureReward)\n",
        "        AllGamesReward = np.append(AllGamesReward, tempArray, axis=0)\n",
        "    return AllGamesReward[1:].reshape(-1,1)"
      ],
      "execution_count": 13,
      "outputs": []
    },
    {
      "cell_type": "code",
      "metadata": {
        "id": "T-tbXg0VKoAh",
        "colab": {
          "resources": {
            "http://localhost:8080/nbextensions/google.colab/files.js": {
              "data": "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",
              "ok": true,
              "headers": [
                [
                  "content-type",
                  "application/javascript"
                ]
              ],
              "status": 200,
              "status_text": ""
            }
          },
          "base_uri": "https://localhost:8080/",
          "height": 72
        },
        "outputId": "ebd612d4-4bb1-41d5-840e-fc591c7ecb31"
      },
      "source": [
        " ####### Upload external file #######\n",
        "\n",
        "from google.colab import files\n",
        "uploaded = files.upload()"
      ],
      "execution_count": 58,
      "outputs": [
        {
          "output_type": "display_data",
          "data": {
            "text/html": [
              "\n",
              "     <input type=\"file\" id=\"files-b0171844-516c-4a09-b4ec-345c63249669\" name=\"files[]\" multiple disabled\n",
              "        style=\"border:none\" />\n",
              "     <output id=\"result-b0171844-516c-4a09-b4ec-345c63249669\">\n",
              "      Upload widget is only available when the cell has been executed in the\n",
              "      current browser session. Please rerun this cell to enable.\n",
              "      </output>\n",
              "      <script src=\"/nbextensions/google.colab/files.js\"></script> "
            ],
            "text/plain": [
              "<IPython.core.display.HTML object>"
            ]
          },
          "metadata": {
            "tags": []
          }
        },
        {
          "output_type": "stream",
          "text": [
            "Saving snakeLogs.json to snakeLogs (1).json\n"
          ],
          "name": "stdout"
        }
      ]
    },
    {
      "cell_type": "code",
      "metadata": {
        "id": "d4AkwK5bJ1CC"
      },
      "source": [
        "#we have a 20 by 20 matrix, with a body and a head covering 3+ squares. We can represent the head,tail and food in a 20x20x3(channels) array\n",
        "j = open('snakeLogs (1).json')\n",
        "data = json.load(j)"
      ],
      "execution_count": 5,
      "outputs": []
    },
    {
      "cell_type": "code",
      "metadata": {
        "id": "Dp102ZLOlj2K"
      },
      "source": [
        "ArrayMax = 200000\n",
        "EatReward = 3\n",
        "DieReward = -1\n",
        "FutureReward = 0\n",
        "EatDecayRate, EatDecayPeriod = 0.25, 4\n",
        "Images, DirectionPointing, CompassMoves, FirstPersonMoves, reward = CreateAllXYInputs(data, ArrayMax, EatReward, EatDecayRate, EatDecayPeriod, DieReward, FutureReward)"
      ],
      "execution_count": 14,
      "outputs": []
    },
    {
      "cell_type": "code",
      "metadata": {
        "id": "6j9vC5RVJ1CF",
        "colab": {
          "base_uri": "https://localhost:8080/"
        },
        "outputId": "1b4451cc-2d30-4a6f-afcf-a2c5de9b9999"
      },
      "source": [
        "Images.shape,FirstPersonMoves.shape,reward.shape,DirectionPointing.shape,CompassMoves.shape"
      ],
      "execution_count": 109,
      "outputs": [
        {
          "output_type": "execute_result",
          "data": {
            "text/plain": [
              "((149933, 3, 20, 20), (149933, 2), (149933, 1), (149933, 3), (149933, 3))"
            ]
          },
          "metadata": {
            "tags": []
          },
          "execution_count": 109
        }
      ]
    },
    {
      "cell_type": "code",
      "metadata": {
        "id": "EJkVM2ZhzG6j"
      },
      "source": [
        "# # ### Function to check things are working\n",
        "\n",
        "# # # #0 = up, 1 = right, 2 = left\n",
        "# n,k = 150,152\n",
        "# print('reward',reward[n:k])\n",
        "# print('FirstPersonMove',FirstPersonMoves[n:k])\n",
        "# print('CompassMove',CompassMoves[n:k])\n",
        "# print('DirectionPointing',DirectionPointing[n:k])\n",
        "# print(Images[n:k]) #,(0,1,3,2))) #this puts y (which we put first, second in the printing)"
      ],
      "execution_count": 19,
      "outputs": []
    },
    {
      "cell_type": "code",
      "metadata": {
        "id": "KuZq9jUkf_eR",
        "colab": {
          "base_uri": "https://localhost:8080/"
        },
        "outputId": "5bb302fd-d1be-483a-c341-528234cdd4f3"
      },
      "source": [
        "print(np.max(reward))"
      ],
      "execution_count": 81,
      "outputs": [
        {
          "output_type": "stream",
          "text": [
            "3.75\n"
          ],
          "name": "stdout"
        }
      ]
    },
    {
      "cell_type": "markdown",
      "metadata": {
        "id": "-3FOo_fkJ1CF"
      },
      "source": [
        "#### Overview of Variables\n",
        "----\n",
        "Trainable X (State): Body, Direction Pointining\n",
        "\n",
        "Non-trainable X (Decision): Moves\n",
        "\n",
        "Target Y: reward"
      ]
    },
    {
      "cell_type": "code",
      "metadata": {
        "id": "2G1RGrnsJ1CG"
      },
      "source": [
        "dataset = Dataset(Images, DirectionPointing, CompassMoves, FirstPersonMoves,reward)"
      ],
      "execution_count": 20,
      "outputs": []
    },
    {
      "cell_type": "code",
      "metadata": {
        "id": "stQu5-WmMeau"
      },
      "source": [
        "#clearing the RAM\n",
        "del Images\n",
        "del DirectionPointing\n",
        "del CompassMoves\n",
        "del FirstPersonMoves"
      ],
      "execution_count": 21,
      "outputs": []
    },
    {
      "cell_type": "code",
      "metadata": {
        "id": "G1vfblXaJ1CH"
      },
      "source": [
        "#note, the very large batch size here may have helped?\n",
        "BatchSize = 2000\n",
        "datasets, dataloaders = DatasetsAndDataloaders(dataset, 0.7,0.2,BatchSize)"
      ],
      "execution_count": 22,
      "outputs": []
    },
    {
      "cell_type": "code",
      "metadata": {
        "colab": {
          "base_uri": "https://localhost:8080/"
        },
        "id": "NiBo7IUqvYMl",
        "outputId": "376b7fa3-d1b6-4b96-d998-890a3b967adc"
      },
      "source": [
        "'''Testing to see if we get good shapes'''\n",
        "counter = 0\n",
        "for image, starting_direction, compass_move, first_person_move, y in datasets['train']:\n",
        "    counter +=1\n",
        "    if counter > 2:\n",
        "        break\n",
        "    print(image.shape,starting_direction.shape,compass_move.shape,first_person_move.shape,y.shape)"
      ],
      "execution_count": 23,
      "outputs": [
        {
          "output_type": "stream",
          "text": [
            "(3, 20, 20) (3,) (3,) (2,) (1,)\n",
            "(3, 20, 20) (3,) (3,) (2,) (1,)\n"
          ],
          "name": "stdout"
        }
      ]
    },
    {
      "cell_type": "code",
      "metadata": {
        "id": "70ydpqDMJ1CI"
      },
      "source": [
        "'''\n",
        "In: Input, Compass Move\n",
        "\n",
        "+Image\n",
        "-----> 1x1 conv net\n",
        "-----> 8 adjacent conv nets of different sizes\n",
        "-----> Dense Layer with dropout -> 17 features\n",
        "\n",
        "+CompassMove (3 features)\n",
        "-----> Dense layer with dropout ->40 features\n",
        "-----> Final dense layer outputting predicted reward.\n",
        "'''\n",
        "\n",
        "class SnakeModel(torch.nn.Module):\n",
        "    def __init__(self,DenseFinalLayerSize):\n",
        "        super().__init__()\n",
        "        #general use\n",
        "        self.tanh = torch.nn.Tanh()\n",
        "        self.relu = torch.nn.ReLU()\n",
        "        #can we add more channels in first section?\n",
        "        #we can add 3,5,7 filters and just flatten before concatting.\n",
        "\n",
        "        ######Convolutional Layers\n",
        "        self.conv0 = torch.nn.Conv2d(3,3,kernel_size=1,stride=1,padding=(0,0)); torch.nn.init.xavier_uniform_(self.conv0.weight)\n",
        "        self.conv1 = torch.nn.Conv2d(3,4,kernel_size=2,stride=1,padding=(0,0)); torch.nn.init.xavier_uniform_(self.conv1.weight)\n",
        "        self.conv2 = torch.nn.Conv2d(3,4,kernel_size=4,stride=1,padding=(1,1)); torch.nn.init.xavier_uniform_(self.conv2.weight)\n",
        "        self.conv3 = torch.nn.Conv2d(3,4,kernel_size=6,stride=1,padding=(2,2)); torch.nn.init.xavier_uniform_(self.conv3.weight)\n",
        "        self.conv4 = torch.nn.Conv2d(3,4,kernel_size=8,stride=1,padding=(3,3)); torch.nn.init.xavier_uniform_(self.conv4.weight)\n",
        "        \n",
        "        self.flatten = torch.nn.Flatten()\n",
        "        \n",
        "        ######Dense Layers\n",
        "        self.DenseLayer1 = torch.nn.Linear(5776,DenseFinalLayerSize); torch.nn.init.xavier_uniform_(self.DenseLayer1.weight)\n",
        "        self.dropout1= torch.nn.Dropout(0.25)\n",
        "        self.DenseLayer2 = torch.nn.Linear(400,DenseFinalLayerSize); torch.nn.init.xavier_uniform_(self.DenseLayer2.weight) \n",
        "        self.FinalDenseLayer1 = torch.nn.Linear(DenseFinalLayerSize+3,40);torch.nn.init.xavier_uniform_(self.FinalDenseLayer1.weight)\n",
        "        self.dropout2= torch.nn.Dropout(0.2)\n",
        "        self.FinalDenseLayer3 = torch.nn.Linear(40,1);torch.nn.init.xavier_uniform_(self.FinalDenseLayer3.weight)        \n",
        "        \n",
        "    def forward(self,image,move): #direction removed\n",
        "        #conv layer\n",
        "        x1 = self.conv1(image)\n",
        "        x1 = self.relu(x1)\n",
        "        x2 = self.conv2(image)\n",
        "        x2 = self.relu(x2)\n",
        "        x3 = self.conv3(image)\n",
        "        x3 = self.relu(x3)\n",
        "        x4 = self.conv4(image)\n",
        "        x4 = self.relu(x4)\n",
        "        x = torch.cat((x1,x2,x3,x4),1)\n",
        "                      \n",
        "        #dense\n",
        "        x = self.flatten(x)\n",
        "        x = self.dropout1(x)\n",
        "        x = self.DenseLayer1(x)\n",
        "        x = self.relu(x)\n",
        "\n",
        "        ###Add in Move\n",
        "        x = torch.cat((x,move),1)\n",
        "        x = self.FinalDenseLayer1(x)\n",
        "        x = self.dropout2(x)\n",
        "        x = self.relu(x)\n",
        "        x = self.FinalDenseLayer3(x)\n",
        "\n",
        "        return x"
      ],
      "execution_count": 24,
      "outputs": []
    },
    {
      "cell_type": "code",
      "metadata": {
        "id": "D_dt30CAJ1CI",
        "colab": {
          "base_uri": "https://localhost:8080/"
        },
        "outputId": "4c444c3a-2a8b-4db9-f52b-6c3e6fdccb5e"
      },
      "source": [
        "FeaturesFromConvLayer = 17\n",
        "device = torch.device(\"cuda\" if torch.cuda.is_available() else \"cpu\") \n",
        "print(f'Device: {device}')\n",
        "\n",
        "#Create Model\n",
        "Model = SnakeModel(FeaturesFromConvLayer)\n",
        "#Set model to GPU\n",
        "Model = Model.to(device)\n",
        "#create optimizer\n",
        "optimizer = torch.optim.Adam(Model.parameters())\n",
        "#create loss metrics\n",
        "criterion = torch.nn.MSELoss()\n",
        "#create metrics(MSE & MAE)\n",
        "metrics = {}\n",
        "metrics['MSE'], metrics['MAE'] = torchmetrics.MeanSquaredError().to(device), torchmetrics.MeanAbsoluteError().to(device)"
      ],
      "execution_count": 37,
      "outputs": [
        {
          "output_type": "stream",
          "text": [
            "Device: cuda\n"
          ],
          "name": "stdout"
        }
      ]
    },
    {
      "cell_type": "code",
      "metadata": {
        "id": "ZwTZLRD7J1CJ",
        "colab": {
          "base_uri": "https://localhost:8080/"
        },
        "outputId": "a0f9ad04-a0f9-4d97-eb3a-7c9a8f36bb8e"
      },
      "source": [
        "#######Testing we get the right shape from the dataloader\n",
        "testimage, _, _, _, testy = next(iter(dataloaders['val']))\n",
        "print(testimage.shape, testy.shape)#,testdirection.shape,testcompmove.shape\n",
        "del testimage\n",
        "del testy"
      ],
      "execution_count": 41,
      "outputs": [
        {
          "output_type": "stream",
          "text": [
            "torch.Size([2000, 3, 20, 20]) torch.Size([2000, 1])\n"
          ],
          "name": "stdout"
        }
      ]
    },
    {
      "cell_type": "code",
      "metadata": {
        "id": "WSZ9Ln2uJ1CJ"
      },
      "source": [
        "#we can rearrange the order of the trainepoch to put the loss and optimizer last, then create a helper function so that train and eval share things.\n",
        "def ModelOutputAndMetrics(batch, model, metrics, device, TTV='train'):\n",
        "    '''\n",
        "    In: dataloaders, the model, the metrics dict, the device & whether it's train or val\n",
        "    Out: creates output, and prints metric --> can pass output to loss/optimizer for train\n",
        "    '''\n",
        "    image, starting_direction, compass_move, first_person_move, y = batch\n",
        "    image, starting_direction, compass_move, y = image.to(device), starting_direction.to(device), compass_move.to(device), y.to(device)\n",
        "    image, starting_direction, compass_move, y = image.float(), starting_direction.float(), compass_move.float(),y.float()\n",
        "    output = model(image, compass_move)    \n",
        "    for metric in metrics.values():\n",
        "        metric(output,y)\n",
        "    return output, y\n",
        "\n",
        "def TrainEpoch(dataloaders, model, optimizer, criterion, metrics,device):\n",
        "    model.train()\n",
        "    for batch in dataloaders['train']:\n",
        "        output, y = ModelOutputAndMetrics(batch, model, metrics, device, 'train')\n",
        "        loss = criterion(output, y)\n",
        "        loss.backward()\n",
        "        optimizer.step(); optimizer.zero_grad()\n",
        "    for MetricName, metric in metrics.items():\n",
        "        met = metric.compute()\n",
        "        print(MetricName,': ', met.item())\n",
        "        metric.reset() \n",
        "\n",
        "def ValEpoch(dataloaders, model, optimizer, criterion, metrics,device):\n",
        "    model.eval()\n",
        "    with torch.no_grad():\n",
        "        for batch in dataloaders['val']:\n",
        "            output, y = ModelOutputAndMetrics(batch, model, metrics, device, 'train')\n",
        "        for MetricName, metric in metrics.items():\n",
        "            met = metric.compute()\n",
        "            if MetricName == 'MSE':\n",
        "                MSE = met\n",
        "            print(MetricName,': ', met.item())\n",
        "            metric.reset() \n",
        "                \n",
        "    return MSE"
      ],
      "execution_count": 54,
      "outputs": []
    },
    {
      "cell_type": "code",
      "metadata": {
        "id": "7j5MMae8J1CJ",
        "colab": {
          "base_uri": "https://localhost:8080/"
        },
        "outputId": "76467363-da87-4e0d-e3dd-3336db941519"
      },
      "source": [
        "MSE = float('inf')\n",
        "patience =0\n",
        "epochs =15\n",
        "for epoch in range(epochs):\n",
        "  print(f'Epoch {epoch} Train Metrics: ')\n",
        "  TrainEpoch(dataloaders, Model, optimizer, criterion, metrics,device)\n",
        "  if epoch % 3 == 0:\n",
        "    print(f'Epoch {epoch} Val Metrics: ')\n",
        "    trial_MSE = ValEpoch(dataloaders,Model,optimizer,criterion,metrics,device)\n",
        "    if trial_MSE < MSE:\n",
        "      MSE = trial_MSE\n",
        "      patience=0\n",
        "      print(patience)\n",
        "    else:\n",
        "      patience+=1\n",
        "      print(patience)\n",
        "      if patience > 0 and epoch > 2 :\n",
        "        print('early stop')\n",
        "        break"
      ],
      "execution_count": 52,
      "outputs": [
        {
          "output_type": "stream",
          "text": [
            "Epoch 0 Train Metrics: \n",
            "MSE :  0.03493380546569824\n",
            "MAE :  0.04388337954878807\n",
            "Epoch 0 Val Metrics: \n",
            "MSE :  0.049675509333610535\n",
            "MAE :  0.05081375688314438\n",
            "0\n",
            "Epoch 1 Train Metrics: \n",
            "MSE :  0.03327734023332596\n",
            "MAE :  0.04249376803636551\n",
            "Epoch 2 Train Metrics: \n",
            "MSE :  0.03184852376580238\n",
            "MAE :  0.04126082360744476\n",
            "Epoch 3 Train Metrics: \n",
            "MSE :  0.03056510165333748\n",
            "MAE :  0.040232788771390915\n",
            "Epoch 3 Val Metrics: \n",
            "MSE :  0.048388756811618805\n",
            "MAE :  0.046345554292201996\n",
            "0\n",
            "Epoch 4 Train Metrics: \n",
            "MSE :  0.029209990054368973\n",
            "MAE :  0.03926386684179306\n",
            "Epoch 5 Train Metrics: \n",
            "MSE :  0.02745991200208664\n",
            "MAE :  0.03830505162477493\n",
            "Epoch 6 Train Metrics: \n",
            "MSE :  0.028468012809753418\n",
            "MAE :  0.038586873561143875\n",
            "Epoch 6 Val Metrics: \n",
            "MSE :  0.0475543774664402\n",
            "MAE :  0.043930672109127045\n",
            "0\n",
            "Epoch 7 Train Metrics: \n",
            "MSE :  0.026510760188102722\n",
            "MAE :  0.03813598304986954\n",
            "Epoch 8 Train Metrics: \n",
            "MSE :  0.025487402454018593\n",
            "MAE :  0.03708478435873985\n",
            "Epoch 9 Train Metrics: \n",
            "MSE :  0.02472766675055027\n",
            "MAE :  0.0366053581237793\n",
            "Epoch 9 Val Metrics: \n",
            "MSE :  0.04752649739384651\n",
            "MAE :  0.040903497487306595\n",
            "0\n",
            "Epoch 10 Train Metrics: \n",
            "MSE :  0.023714261129498482\n",
            "MAE :  0.03527478873729706\n",
            "Epoch 11 Train Metrics: \n",
            "MSE :  0.023211609572172165\n",
            "MAE :  0.03507540374994278\n",
            "Epoch 12 Train Metrics: \n",
            "MSE :  0.022643331438302994\n",
            "MAE :  0.034555234014987946\n",
            "Epoch 12 Val Metrics: \n",
            "MSE :  0.04436701163649559\n",
            "MAE :  0.039930131286382675\n",
            "0\n",
            "Epoch 13 Train Metrics: \n",
            "MSE :  0.02137409709393978\n",
            "MAE :  0.03361897170543671\n",
            "Epoch 14 Train Metrics: \n",
            "MSE :  0.020911183208227158\n",
            "MAE :  0.033490877598524094\n"
          ],
          "name": "stdout"
        }
      ]
    },
    {
      "cell_type": "code",
      "metadata": {
        "id": "37Dn2JzfWmlR",
        "colab": {
          "base_uri": "https://localhost:8080/"
        },
        "outputId": "7b58ef11-447a-465a-8b69-002180780a0c"
      },
      "source": [
        "##############################################\n",
        "#\n",
        "#\n",
        "##### Functions to help us check the model is working\n",
        "\n",
        "def return_available_directions(current_dir_array):\n",
        "  '''\n",
        "  In: current direcetion\n",
        "  Out: Available directions for the snake to go next\n",
        "  '''\n",
        "  ###extract current distance in 0,1,2,3 dialect\n",
        "  if np.any(current_dir_array) !=  0:\n",
        "    current_dir = np.argmax(current_dir_array)+1\n",
        "  else:\n",
        "    current_dir = 0\n",
        "\n",
        "  if current_dir == 0:\n",
        "    return [0,1,3]\n",
        "  elif current_dir ==1:\n",
        "    return [0,1,2]\n",
        "  elif current_dir == 2:\n",
        "    return [1,2,3]\n",
        "  else:\n",
        "    return [0,2,3]\n",
        "\n",
        "##Checking function by inputting \"Up\"\n",
        "print(f'Up returns: {return_available_directions(np.array([0,0,0]))}\\nDown Returns:{return_available_directions(np.array([0,1,0]))}')\n",
        "\n",
        "\n",
        "def ConvertImageToOrigView(image):\n",
        "  '''\n",
        "  In: Image in 3x20x20 form\n",
        "  Output: List of coordinates for tail, head, body\n",
        "  '''\n",
        "\n",
        "  TailList, HeadList, FoodList = [], [], []\n",
        "  def ConvertOneFrame(BlankList, image,idx):\n",
        "    for rowidx, row in enumerate(image[idx,:,:]): \n",
        "      for colidx, col in enumerate(row):\n",
        "        if col == 1:\n",
        "          y = 20-rowidx\n",
        "          x = colidx+1\n",
        "          BlankList.append([y,x])\n",
        "    return BlankList\n",
        "  TaiList = ConvertOneFrame(TailList,image,0)\n",
        "  HeadList = ConvertOneFrame(HeadList,image,1)\n",
        "  FoodList = ConvertOneFrame(FoodList,image,2)\n",
        "  print(f'Tail: {TailList},Head: {HeadList},Food: {FoodList}')\n",
        "  return \n",
        "\n",
        "####Testing this function\n",
        "print(f'Test for image conversion:')\n",
        "ConvertImageToOrigView(images[0])"
      ],
      "execution_count": 196,
      "outputs": [
        {
          "output_type": "stream",
          "text": [
            "Up returns: [0, 1, 3]\n",
            "Down Returns:[1, 2, 3]\n",
            "Test for image conversion:\n",
            "Tail: [[13, 6], [13, 7]],Head: [[12, 7]],Food: [[9, 8]]\n"
          ],
          "name": "stdout"
        }
      ]
    },
    {
      "cell_type": "code",
      "metadata": {
        "id": "16pZaWYxJ1CJ"
      },
      "source": [
        "#take one batch of the data and test three different direction choices\n",
        "@torch.no_grad()\n",
        "def MakePrediction(dataloaders, model, TTV):\n",
        "  '''\n",
        "  In: dataloaders, train/test/val and the model\n",
        "  Out: An array with the predicted reward for each different direction the snake could choose for each example (excluding unavailable direction based on starting direction)\n",
        "  '''  \n",
        "  model.eval()\n",
        "  #Get the image and starting direction as we need it.\n",
        "  images, starting_directions, compass_move, first_person_move, reward = next(iter(dataloaders[TTV]))\n",
        "  images,starting_directions = images.to(device), starting_directions.to(device)\n",
        "  images, starting_directions = images.float(), starting_directions.float()\n",
        "  \n",
        "  ####Create an array with 4 options, and the length of the batch\n",
        "  ArrayToStoreChoices = np.zeros((len(starting_directions),4))+1e-9\n",
        "\n",
        "  \n",
        "  for idx, (image, starting_direction) in enumerate(zip(images, starting_directions)):\n",
        "    ####Get the options we want to test, based on starting direction\n",
        "    available_choices = return_available_directions(starting_direction.cpu().numpy())\n",
        "    ###Reshape the image and starting direction to add a first dimension to match the model shape\n",
        "    image, starting_direction = torch.reshape(image,(1,3,20,20)).to(device), torch.reshape(starting_direction,(1,3)).to(device)\n",
        "\n",
        "    ###Iterate through available options, run the model, and store in the relevant idx of the array\n",
        "    for move in available_choices:\n",
        "      #this 'one hots' the move\n",
        "      test_move = torch.zeros(1,3).to(device)\n",
        "      if move!=0:\n",
        "         test_move[0,move-1] = 1\n",
        "      prediction=model(image, test_move).cpu().detach().numpy()[0][0] #remove from gpu, detach from grads, make it a numpy and take the values!\n",
        "      ArrayToStoreChoices[idx,move] = prediction\n",
        "  return ArrayToStoreChoices, images\n",
        "ChoiceValues, images = MakePrediction(dataloaders,Model,'val')\n"
      ],
      "execution_count": 197,
      "outputs": []
    },
    {
      "cell_type": "code",
      "metadata": {
        "id": "-lL2YUqJa7Ih",
        "colab": {
          "base_uri": "https://localhost:8080/"
        },
        "outputId": "29d609f8-0350-43b1-c11c-23e583c7cdc0"
      },
      "source": [
        "def GetSummaryStats(ChoiceValues):\n",
        "  #Is one normally better than the others? mean\n",
        "  print(f'Means: Up, Right, Down, Left: {np.mean(ChoiceValues,axis=0)}')\n",
        "  #what is average range in a row\n",
        "  print(f'Average Range: {np.mean(np.max(ChoiceValues,axis=1)-np.min(ChoiceValues,axis=1))}')\n",
        "  #how often does one win\n",
        "  Picks = np.argmax(ChoiceValues,axis=-1)\n",
        "  a , b = (np.unique(Picks, return_counts=True))\n",
        "  print(f'Up, Right, Down, Left: {b}')\n",
        "GetSummaryStats(ChoiceValues)"
      ],
      "execution_count": 199,
      "outputs": [
        {
          "output_type": "stream",
          "text": [
            "Means: Up, Right, Down, Left: [0.023 0.017 0.015 0.019]\n",
            "Average Range: 0.08083399449071269\n",
            "Up, Right, Down, Left: [1293  505  129   73]\n"
          ],
          "name": "stdout"
        }
      ]
    },
    {
      "cell_type": "code",
      "metadata": {
        "colab": {
          "base_uri": "https://localhost:8080/",
          "height": 987
        },
        "id": "Aexytlvz_5tm",
        "outputId": "ebdf498d-e682-4e28-e2fc-a390f883af67"
      },
      "source": [
        "'''This returns the output of the choice values for values with a high threshold, and the place the snake was at the time'''\n",
        "\n",
        "#create df\n",
        "DFChoiceValues = pd.DataFrame(ChoiceValues)\n",
        "DFChoiceValues['max'] = DFChoiceValues.max(axis=1)\n",
        "DFChoiceValues['min'] = DFChoiceValues.min(axis=1)\n",
        "#get mean and std\n",
        "ChoiceValFlat = ChoiceValues.flatten()\n",
        "mean, std = np.mean(ChoiceValFlat), np.std(ChoiceValFlat)\n",
        "upperThresh = mean+2*std\n",
        "lowerThresh= mean - 2*std\n",
        "#just get high and low values\n",
        "HighLowValRows = DFChoiceValues[(DFChoiceValues['max'] > upperThresh) | (DFChoiceValues['min'] < lowerThresh)]\n",
        "RowsToLookAt = HighLowValRows.index.tolist()\n",
        "for row in RowsToLookAt[:10]:\n",
        "  display(pd.DataFrame(DFChoiceValues.loc[row]).T)\n",
        "  print(ConvertImageToOrigView(images[row]))"
      ],
      "execution_count": 200,
      "outputs": [
        {
          "output_type": "display_data",
          "data": {
            "text/html": [
              "<div>\n",
              "<style scoped>\n",
              "    .dataframe tbody tr th:only-of-type {\n",
              "        vertical-align: middle;\n",
              "    }\n",
              "\n",
              "    .dataframe tbody tr th {\n",
              "        vertical-align: top;\n",
              "    }\n",
              "\n",
              "    .dataframe thead th {\n",
              "        text-align: right;\n",
              "    }\n",
              "</style>\n",
              "<table border=\"1\" class=\"dataframe\">\n",
              "  <thead>\n",
              "    <tr style=\"text-align: right;\">\n",
              "      <th></th>\n",
              "      <th>0</th>\n",
              "      <th>1</th>\n",
              "      <th>2</th>\n",
              "      <th>3</th>\n",
              "      <th>max</th>\n",
              "      <th>min</th>\n",
              "    </tr>\n",
              "  </thead>\n",
              "  <tbody>\n",
              "    <tr>\n",
              "      <th>50</th>\n",
              "      <td>0.00000</td>\n",
              "      <td>-0.93980</td>\n",
              "      <td>0.27120</td>\n",
              "      <td>-0.00869</td>\n",
              "      <td>0.27120</td>\n",
              "      <td>-0.93980</td>\n",
              "    </tr>\n",
              "  </tbody>\n",
              "</table>\n",
              "</div>"
            ],
            "text/plain": [
              "         0        1       2        3     max      min\n",
              "50 0.00000 -0.93980 0.27120 -0.00869 0.27120 -0.93980"
            ]
          },
          "metadata": {
            "tags": []
          }
        },
        {
          "output_type": "stream",
          "text": [
            "Tail: [[12, 19], [12, 20]],Head: [[11, 20]],Food: [[13, 20]]\n",
            "None\n"
          ],
          "name": "stdout"
        },
        {
          "output_type": "display_data",
          "data": {
            "text/html": [
              "<div>\n",
              "<style scoped>\n",
              "    .dataframe tbody tr th:only-of-type {\n",
              "        vertical-align: middle;\n",
              "    }\n",
              "\n",
              "    .dataframe tbody tr th {\n",
              "        vertical-align: top;\n",
              "    }\n",
              "\n",
              "    .dataframe thead th {\n",
              "        text-align: right;\n",
              "    }\n",
              "</style>\n",
              "<table border=\"1\" class=\"dataframe\">\n",
              "  <thead>\n",
              "    <tr style=\"text-align: right;\">\n",
              "      <th></th>\n",
              "      <th>0</th>\n",
              "      <th>1</th>\n",
              "      <th>2</th>\n",
              "      <th>3</th>\n",
              "      <th>max</th>\n",
              "      <th>min</th>\n",
              "    </tr>\n",
              "  </thead>\n",
              "  <tbody>\n",
              "    <tr>\n",
              "      <th>56</th>\n",
              "      <td>0.00000</td>\n",
              "      <td>0.05128</td>\n",
              "      <td>0.03540</td>\n",
              "      <td>-0.91753</td>\n",
              "      <td>0.05128</td>\n",
              "      <td>-0.91753</td>\n",
              "    </tr>\n",
              "  </tbody>\n",
              "</table>\n",
              "</div>"
            ],
            "text/plain": [
              "         0       1       2        3     max      min\n",
              "56 0.00000 0.05128 0.03540 -0.91753 0.05128 -0.91753"
            ]
          },
          "metadata": {
            "tags": []
          }
        },
        {
          "output_type": "stream",
          "text": [
            "Tail: [[8, 1], [8, 2]],Head: [[7, 1]],Food: [[15, 7]]\n",
            "None\n"
          ],
          "name": "stdout"
        },
        {
          "output_type": "display_data",
          "data": {
            "text/html": [
              "<div>\n",
              "<style scoped>\n",
              "    .dataframe tbody tr th:only-of-type {\n",
              "        vertical-align: middle;\n",
              "    }\n",
              "\n",
              "    .dataframe tbody tr th {\n",
              "        vertical-align: top;\n",
              "    }\n",
              "\n",
              "    .dataframe thead th {\n",
              "        text-align: right;\n",
              "    }\n",
              "</style>\n",
              "<table border=\"1\" class=\"dataframe\">\n",
              "  <thead>\n",
              "    <tr style=\"text-align: right;\">\n",
              "      <th></th>\n",
              "      <th>0</th>\n",
              "      <th>1</th>\n",
              "      <th>2</th>\n",
              "      <th>3</th>\n",
              "      <th>max</th>\n",
              "      <th>min</th>\n",
              "    </tr>\n",
              "  </thead>\n",
              "  <tbody>\n",
              "    <tr>\n",
              "      <th>84</th>\n",
              "      <td>0.63528</td>\n",
              "      <td>0.43933</td>\n",
              "      <td>0.00000</td>\n",
              "      <td>0.35309</td>\n",
              "      <td>0.63528</td>\n",
              "      <td>0.00000</td>\n",
              "    </tr>\n",
              "  </tbody>\n",
              "</table>\n",
              "</div>"
            ],
            "text/plain": [
              "         0       1       2       3     max     min\n",
              "84 0.63528 0.43933 0.00000 0.35309 0.63528 0.00000"
            ]
          },
          "metadata": {
            "tags": []
          }
        },
        {
          "output_type": "stream",
          "text": [
            "Tail: [[8, 11], [8, 12]],Head: [[9, 11]],Food: [[10, 11]]\n",
            "None\n"
          ],
          "name": "stdout"
        },
        {
          "output_type": "display_data",
          "data": {
            "text/html": [
              "<div>\n",
              "<style scoped>\n",
              "    .dataframe tbody tr th:only-of-type {\n",
              "        vertical-align: middle;\n",
              "    }\n",
              "\n",
              "    .dataframe tbody tr th {\n",
              "        vertical-align: top;\n",
              "    }\n",
              "\n",
              "    .dataframe thead th {\n",
              "        text-align: right;\n",
              "    }\n",
              "</style>\n",
              "<table border=\"1\" class=\"dataframe\">\n",
              "  <thead>\n",
              "    <tr style=\"text-align: right;\">\n",
              "      <th></th>\n",
              "      <th>0</th>\n",
              "      <th>1</th>\n",
              "      <th>2</th>\n",
              "      <th>3</th>\n",
              "      <th>max</th>\n",
              "      <th>min</th>\n",
              "    </tr>\n",
              "  </thead>\n",
              "  <tbody>\n",
              "    <tr>\n",
              "      <th>94</th>\n",
              "      <td>-0.05259</td>\n",
              "      <td>0.00000</td>\n",
              "      <td>-0.14995</td>\n",
              "      <td>-0.72423</td>\n",
              "      <td>0.00000</td>\n",
              "      <td>-0.72423</td>\n",
              "    </tr>\n",
              "  </tbody>\n",
              "</table>\n",
              "</div>"
            ],
            "text/plain": [
              "          0       1        2        3     max      min\n",
              "94 -0.05259 0.00000 -0.14995 -0.72423 0.00000 -0.72423"
            ]
          },
          "metadata": {
            "tags": []
          }
        },
        {
          "output_type": "stream",
          "text": [
            "Tail: [[16, 2], [15, 2]],Head: [[16, 1]],Food: [[8, 4]]\n",
            "None\n"
          ],
          "name": "stdout"
        },
        {
          "output_type": "display_data",
          "data": {
            "text/html": [
              "<div>\n",
              "<style scoped>\n",
              "    .dataframe tbody tr th:only-of-type {\n",
              "        vertical-align: middle;\n",
              "    }\n",
              "\n",
              "    .dataframe tbody tr th {\n",
              "        vertical-align: top;\n",
              "    }\n",
              "\n",
              "    .dataframe thead th {\n",
              "        text-align: right;\n",
              "    }\n",
              "</style>\n",
              "<table border=\"1\" class=\"dataframe\">\n",
              "  <thead>\n",
              "    <tr style=\"text-align: right;\">\n",
              "      <th></th>\n",
              "      <th>0</th>\n",
              "      <th>1</th>\n",
              "      <th>2</th>\n",
              "      <th>3</th>\n",
              "      <th>max</th>\n",
              "      <th>min</th>\n",
              "    </tr>\n",
              "  </thead>\n",
              "  <tbody>\n",
              "    <tr>\n",
              "      <th>101</th>\n",
              "      <td>1.41622</td>\n",
              "      <td>0.00000</td>\n",
              "      <td>0.97328</td>\n",
              "      <td>1.49681</td>\n",
              "      <td>1.49681</td>\n",
              "      <td>0.00000</td>\n",
              "    </tr>\n",
              "  </tbody>\n",
              "</table>\n",
              "</div>"
            ],
            "text/plain": [
              "          0       1       2       3     max     min\n",
              "101 1.41622 0.00000 0.97328 1.49681 1.49681 0.00000"
            ]
          },
          "metadata": {
            "tags": []
          }
        },
        {
          "output_type": "stream",
          "text": [
            "Tail: [[15, 13], [14, 13]],Head: [[14, 12]],Food: [[14, 11]]\n",
            "None\n"
          ],
          "name": "stdout"
        },
        {
          "output_type": "display_data",
          "data": {
            "text/html": [
              "<div>\n",
              "<style scoped>\n",
              "    .dataframe tbody tr th:only-of-type {\n",
              "        vertical-align: middle;\n",
              "    }\n",
              "\n",
              "    .dataframe tbody tr th {\n",
              "        vertical-align: top;\n",
              "    }\n",
              "\n",
              "    .dataframe thead th {\n",
              "        text-align: right;\n",
              "    }\n",
              "</style>\n",
              "<table border=\"1\" class=\"dataframe\">\n",
              "  <thead>\n",
              "    <tr style=\"text-align: right;\">\n",
              "      <th></th>\n",
              "      <th>0</th>\n",
              "      <th>1</th>\n",
              "      <th>2</th>\n",
              "      <th>3</th>\n",
              "      <th>max</th>\n",
              "      <th>min</th>\n",
              "    </tr>\n",
              "  </thead>\n",
              "  <tbody>\n",
              "    <tr>\n",
              "      <th>127</th>\n",
              "      <td>0.00000</td>\n",
              "      <td>-0.01139</td>\n",
              "      <td>-0.97055</td>\n",
              "      <td>-0.03616</td>\n",
              "      <td>0.00000</td>\n",
              "      <td>-0.97055</td>\n",
              "    </tr>\n",
              "  </tbody>\n",
              "</table>\n",
              "</div>"
            ],
            "text/plain": [
              "          0        1        2        3     max      min\n",
              "127 0.00000 -0.01139 -0.97055 -0.03616 0.00000 -0.97055"
            ]
          },
          "metadata": {
            "tags": []
          }
        },
        {
          "output_type": "stream",
          "text": [
            "Tail: [[3, 10], [2, 10]],Head: [[1, 10]],Food: [[3, 20]]\n",
            "None\n"
          ],
          "name": "stdout"
        },
        {
          "output_type": "display_data",
          "data": {
            "text/html": [
              "<div>\n",
              "<style scoped>\n",
              "    .dataframe tbody tr th:only-of-type {\n",
              "        vertical-align: middle;\n",
              "    }\n",
              "\n",
              "    .dataframe tbody tr th {\n",
              "        vertical-align: top;\n",
              "    }\n",
              "\n",
              "    .dataframe thead th {\n",
              "        text-align: right;\n",
              "    }\n",
              "</style>\n",
              "<table border=\"1\" class=\"dataframe\">\n",
              "  <thead>\n",
              "    <tr style=\"text-align: right;\">\n",
              "      <th></th>\n",
              "      <th>0</th>\n",
              "      <th>1</th>\n",
              "      <th>2</th>\n",
              "      <th>3</th>\n",
              "      <th>max</th>\n",
              "      <th>min</th>\n",
              "    </tr>\n",
              "  </thead>\n",
              "  <tbody>\n",
              "    <tr>\n",
              "      <th>150</th>\n",
              "      <td>-0.04741</td>\n",
              "      <td>0.00000</td>\n",
              "      <td>-0.09300</td>\n",
              "      <td>-0.89264</td>\n",
              "      <td>0.00000</td>\n",
              "      <td>-0.89264</td>\n",
              "    </tr>\n",
              "  </tbody>\n",
              "</table>\n",
              "</div>"
            ],
            "text/plain": [
              "           0       1        2        3     max      min\n",
              "150 -0.04741 0.00000 -0.09300 -0.89264 0.00000 -0.89264"
            ]
          },
          "metadata": {
            "tags": []
          }
        },
        {
          "output_type": "stream",
          "text": [
            "Tail: [[15, 2], [15, 3]],Head: [[15, 1]],Food: [[18, 4]]\n",
            "None\n"
          ],
          "name": "stdout"
        },
        {
          "output_type": "display_data",
          "data": {
            "text/html": [
              "<div>\n",
              "<style scoped>\n",
              "    .dataframe tbody tr th:only-of-type {\n",
              "        vertical-align: middle;\n",
              "    }\n",
              "\n",
              "    .dataframe tbody tr th {\n",
              "        vertical-align: top;\n",
              "    }\n",
              "\n",
              "    .dataframe thead th {\n",
              "        text-align: right;\n",
              "    }\n",
              "</style>\n",
              "<table border=\"1\" class=\"dataframe\">\n",
              "  <thead>\n",
              "    <tr style=\"text-align: right;\">\n",
              "      <th></th>\n",
              "      <th>0</th>\n",
              "      <th>1</th>\n",
              "      <th>2</th>\n",
              "      <th>3</th>\n",
              "      <th>max</th>\n",
              "      <th>min</th>\n",
              "    </tr>\n",
              "  </thead>\n",
              "  <tbody>\n",
              "    <tr>\n",
              "      <th>175</th>\n",
              "      <td>1.13104</td>\n",
              "      <td>1.50976</td>\n",
              "      <td>0.30318</td>\n",
              "      <td>0.00000</td>\n",
              "      <td>1.50976</td>\n",
              "      <td>0.00000</td>\n",
              "    </tr>\n",
              "  </tbody>\n",
              "</table>\n",
              "</div>"
            ],
            "text/plain": [
              "          0       1       2       3     max     min\n",
              "175 1.13104 1.50976 0.30318 0.00000 1.50976 0.00000"
            ]
          },
          "metadata": {
            "tags": []
          }
        },
        {
          "output_type": "stream",
          "text": [
            "Tail: [[9, 13], [9, 14]],Head: [[9, 15]],Food: [[9, 16]]\n",
            "None\n"
          ],
          "name": "stdout"
        },
        {
          "output_type": "display_data",
          "data": {
            "text/html": [
              "<div>\n",
              "<style scoped>\n",
              "    .dataframe tbody tr th:only-of-type {\n",
              "        vertical-align: middle;\n",
              "    }\n",
              "\n",
              "    .dataframe tbody tr th {\n",
              "        vertical-align: top;\n",
              "    }\n",
              "\n",
              "    .dataframe thead th {\n",
              "        text-align: right;\n",
              "    }\n",
              "</style>\n",
              "<table border=\"1\" class=\"dataframe\">\n",
              "  <thead>\n",
              "    <tr style=\"text-align: right;\">\n",
              "      <th></th>\n",
              "      <th>0</th>\n",
              "      <th>1</th>\n",
              "      <th>2</th>\n",
              "      <th>3</th>\n",
              "      <th>max</th>\n",
              "      <th>min</th>\n",
              "    </tr>\n",
              "  </thead>\n",
              "  <tbody>\n",
              "    <tr>\n",
              "      <th>183</th>\n",
              "      <td>0.00000</td>\n",
              "      <td>-0.05119</td>\n",
              "      <td>-0.88953</td>\n",
              "      <td>-0.00915</td>\n",
              "      <td>0.00000</td>\n",
              "      <td>-0.88953</td>\n",
              "    </tr>\n",
              "  </tbody>\n",
              "</table>\n",
              "</div>"
            ],
            "text/plain": [
              "          0        1        2        3     max      min\n",
              "183 0.00000 -0.05119 -0.88953 -0.00915 0.00000 -0.88953"
            ]
          },
          "metadata": {
            "tags": []
          }
        },
        {
          "output_type": "stream",
          "text": [
            "Tail: [[2, 6], [2, 7]],Head: [[1, 6]],Food: [[7, 12]]\n",
            "None\n"
          ],
          "name": "stdout"
        },
        {
          "output_type": "display_data",
          "data": {
            "text/html": [
              "<div>\n",
              "<style scoped>\n",
              "    .dataframe tbody tr th:only-of-type {\n",
              "        vertical-align: middle;\n",
              "    }\n",
              "\n",
              "    .dataframe tbody tr th {\n",
              "        vertical-align: top;\n",
              "    }\n",
              "\n",
              "    .dataframe thead th {\n",
              "        text-align: right;\n",
              "    }\n",
              "</style>\n",
              "<table border=\"1\" class=\"dataframe\">\n",
              "  <thead>\n",
              "    <tr style=\"text-align: right;\">\n",
              "      <th></th>\n",
              "      <th>0</th>\n",
              "      <th>1</th>\n",
              "      <th>2</th>\n",
              "      <th>3</th>\n",
              "      <th>max</th>\n",
              "      <th>min</th>\n",
              "    </tr>\n",
              "  </thead>\n",
              "  <tbody>\n",
              "    <tr>\n",
              "      <th>184</th>\n",
              "      <td>0.00000</td>\n",
              "      <td>-0.04935</td>\n",
              "      <td>-0.95005</td>\n",
              "      <td>-0.03386</td>\n",
              "      <td>0.00000</td>\n",
              "      <td>-0.95005</td>\n",
              "    </tr>\n",
              "  </tbody>\n",
              "</table>\n",
              "</div>"
            ],
            "text/plain": [
              "          0        1        2        3     max      min\n",
              "184 0.00000 -0.04935 -0.95005 -0.03386 0.00000 -0.95005"
            ]
          },
          "metadata": {
            "tags": []
          }
        },
        {
          "output_type": "stream",
          "text": [
            "Tail: [[2, 10], [2, 11]],Head: [[1, 10]],Food: [[20, 11]]\n",
            "None\n"
          ],
          "name": "stdout"
        }
      ]
    },
    {
      "cell_type": "code",
      "metadata": {
        "id": "rW35EIuAOSdj"
      },
      "source": [
        "##SampleInputelements\n",
        "tail = [[2,2],[2,3]]\n",
        "head = [3,3]\n",
        "food = [4,3]\n",
        "starting_direction = 0"
      ],
      "execution_count": 201,
      "outputs": []
    },
    {
      "cell_type": "code",
      "metadata": {
        "id": "vsSHXuAjPMb2"
      },
      "source": [
        "########################################\n",
        "#\n",
        "#\n",
        "#\n",
        "######For use in .py file: one set of data in format given by .py file.\n",
        "'''\n",
        "in: list for tail (N x 2), list for head(1x2), list for food(1x2), value for starting direction(integer)\n",
        "function: input this to model, and output rewards\n",
        "out: using either tiny epsilon or softmax, make choice.\n",
        "'''\n",
        "#Turn tail, head, food into 1,3,20,20 array\n",
        "def CreateOneMoveModelInputs(tail, head, food, starting_direction):\n",
        "  one_im_array = np.zeros((1,3,20,20))\n",
        "\n",
        "  for idx, point in enumerate(tail):\n",
        "    y = 20-point[0] ### when we 'view' our game like the snake.py, y is at the top\n",
        "    x = point[1]-1 ### In our snake game, the arrays start at 1, and go to 20. We want 0->19\n",
        "    one_im_array[0,0,y,x] =1\n",
        "  y = 20-head[0]\n",
        "  x = head[1]-1\n",
        "  one_im_array[0,1,y,x] = 1\n",
        "  y = 20-food[0]\n",
        "  x = food[1]-1\n",
        "  one_im_array[0,2,y,x] = 1\n",
        "  available_choices = return_available_directions(starting_direction)\n",
        "  return image, available_choices\n",
        "\n",
        "def CreateRewardEst(image, available_choices,model):\n",
        "  ArrayToStoreEsts = np.zeros((1,4))-1e9  ###create one hot version of the move\n",
        "  for move in available_choices:\n",
        "    test_move = torch.zeros(1,3).to(device)\n",
        "    if move!=0:\n",
        "      test_move[0,move-1] = 1\n",
        "    #run the move and get a predicted reward\n",
        "    prediction=model(image, test_move).cpu().detach().numpy()[0][0]\n",
        "    ArrayToStoreEsts[1,move] = prediction\n",
        "    Probabilites=torch.nn.softmax(ArrayToStoreEst,dim=1)\n",
        "  return ArrayToStoreEsts, Probabilities"
      ],
      "execution_count": 218,
      "outputs": []
    },
    {
      "cell_type": "code",
      "metadata": {
        "colab": {
          "base_uri": "https://localhost:8080/",
          "height": 919
        },
        "id": "vdDLzhq0SIm6",
        "outputId": "357a28f7-dd15-41b8-dfd6-5816e16c585e"
      },
      "source": [
        "timage, tavailablechoices = CreateOneMoveModelInputs(tail, head, food, starting_direction)\n",
        "arr, pro = CreateRewardEst(timage, tavailablechoices,Model)"
      ],
      "execution_count": 219,
      "outputs": [
        {
          "output_type": "error",
          "ename": "RuntimeError",
          "evalue": "ignored",
          "traceback": [
            "\u001b[0;31m---------------------------------------------------------------------------\u001b[0m",
            "\u001b[0;31mRuntimeError\u001b[0m                              Traceback (most recent call last)",
            "\u001b[0;32m<ipython-input-219-965cf95865fb>\u001b[0m in \u001b[0;36m<module>\u001b[0;34m()\u001b[0m\n\u001b[1;32m      1\u001b[0m \u001b[0mtimage\u001b[0m\u001b[0;34m,\u001b[0m \u001b[0mtavailablechoices\u001b[0m \u001b[0;34m=\u001b[0m \u001b[0mCreateOneMoveModelInputs\u001b[0m\u001b[0;34m(\u001b[0m\u001b[0mtail\u001b[0m\u001b[0;34m,\u001b[0m \u001b[0mhead\u001b[0m\u001b[0;34m,\u001b[0m \u001b[0mfood\u001b[0m\u001b[0;34m,\u001b[0m \u001b[0mstarting_direction\u001b[0m\u001b[0;34m)\u001b[0m\u001b[0;34m\u001b[0m\u001b[0;34m\u001b[0m\u001b[0m\n\u001b[0;32m----> 2\u001b[0;31m \u001b[0marr\u001b[0m\u001b[0;34m,\u001b[0m \u001b[0mpro\u001b[0m \u001b[0;34m=\u001b[0m \u001b[0mCreateRewardEst\u001b[0m\u001b[0;34m(\u001b[0m\u001b[0mtimage\u001b[0m\u001b[0;34m,\u001b[0m \u001b[0mtavailablechoices\u001b[0m\u001b[0;34m,\u001b[0m\u001b[0mModel\u001b[0m\u001b[0;34m)\u001b[0m\u001b[0;34m\u001b[0m\u001b[0;34m\u001b[0m\u001b[0m\n\u001b[0m",
            "\u001b[0;32m<ipython-input-218-01191b7efad5>\u001b[0m in \u001b[0;36mCreateRewardEst\u001b[0;34m(image, available_choices, model)\u001b[0m\n\u001b[1;32m     33\u001b[0m       \u001b[0mtest_move\u001b[0m\u001b[0;34m[\u001b[0m\u001b[0;36m0\u001b[0m\u001b[0;34m,\u001b[0m\u001b[0mmove\u001b[0m\u001b[0;34m-\u001b[0m\u001b[0;36m1\u001b[0m\u001b[0;34m]\u001b[0m \u001b[0;34m=\u001b[0m \u001b[0;36m1\u001b[0m\u001b[0;34m\u001b[0m\u001b[0;34m\u001b[0m\u001b[0m\n\u001b[1;32m     34\u001b[0m     \u001b[0;31m#run the move and get a predicted reward\u001b[0m\u001b[0;34m\u001b[0m\u001b[0;34m\u001b[0m\u001b[0;34m\u001b[0m\u001b[0m\n\u001b[0;32m---> 35\u001b[0;31m     \u001b[0mprediction\u001b[0m\u001b[0;34m=\u001b[0m\u001b[0mmodel\u001b[0m\u001b[0;34m(\u001b[0m\u001b[0mimage\u001b[0m\u001b[0;34m,\u001b[0m \u001b[0mtest_move\u001b[0m\u001b[0;34m)\u001b[0m\u001b[0;34m.\u001b[0m\u001b[0mcpu\u001b[0m\u001b[0;34m(\u001b[0m\u001b[0;34m)\u001b[0m\u001b[0;34m.\u001b[0m\u001b[0mdetach\u001b[0m\u001b[0;34m(\u001b[0m\u001b[0;34m)\u001b[0m\u001b[0;34m.\u001b[0m\u001b[0mnumpy\u001b[0m\u001b[0;34m(\u001b[0m\u001b[0;34m)\u001b[0m\u001b[0;34m[\u001b[0m\u001b[0;36m0\u001b[0m\u001b[0;34m]\u001b[0m\u001b[0;34m[\u001b[0m\u001b[0;36m0\u001b[0m\u001b[0;34m]\u001b[0m\u001b[0;34m\u001b[0m\u001b[0;34m\u001b[0m\u001b[0m\n\u001b[0m\u001b[1;32m     36\u001b[0m     \u001b[0mArrayToStoreEsts\u001b[0m\u001b[0;34m[\u001b[0m\u001b[0;36m1\u001b[0m\u001b[0;34m,\u001b[0m\u001b[0mmove\u001b[0m\u001b[0;34m]\u001b[0m \u001b[0;34m=\u001b[0m \u001b[0mprediction\u001b[0m\u001b[0;34m\u001b[0m\u001b[0;34m\u001b[0m\u001b[0m\n\u001b[1;32m     37\u001b[0m     \u001b[0mProbabilites\u001b[0m\u001b[0;34m=\u001b[0m\u001b[0mtorch\u001b[0m\u001b[0;34m.\u001b[0m\u001b[0mnn\u001b[0m\u001b[0;34m.\u001b[0m\u001b[0msoftmax\u001b[0m\u001b[0;34m(\u001b[0m\u001b[0mArrayToStoreEst\u001b[0m\u001b[0;34m,\u001b[0m\u001b[0mdim\u001b[0m\u001b[0;34m=\u001b[0m\u001b[0;36m1\u001b[0m\u001b[0;34m)\u001b[0m\u001b[0;34m\u001b[0m\u001b[0;34m\u001b[0m\u001b[0m\n",
            "\u001b[0;32m/usr/local/lib/python3.7/dist-packages/torch/nn/modules/module.py\u001b[0m in \u001b[0;36m_call_impl\u001b[0;34m(self, *input, **kwargs)\u001b[0m\n\u001b[1;32m   1049\u001b[0m         if not (self._backward_hooks or self._forward_hooks or self._forward_pre_hooks or _global_backward_hooks\n\u001b[1;32m   1050\u001b[0m                 or _global_forward_hooks or _global_forward_pre_hooks):\n\u001b[0;32m-> 1051\u001b[0;31m             \u001b[0;32mreturn\u001b[0m \u001b[0mforward_call\u001b[0m\u001b[0;34m(\u001b[0m\u001b[0;34m*\u001b[0m\u001b[0minput\u001b[0m\u001b[0;34m,\u001b[0m \u001b[0;34m**\u001b[0m\u001b[0mkwargs\u001b[0m\u001b[0;34m)\u001b[0m\u001b[0;34m\u001b[0m\u001b[0;34m\u001b[0m\u001b[0m\n\u001b[0m\u001b[1;32m   1052\u001b[0m         \u001b[0;31m# Do not call functions when jit is used\u001b[0m\u001b[0;34m\u001b[0m\u001b[0;34m\u001b[0m\u001b[0;34m\u001b[0m\u001b[0m\n\u001b[1;32m   1053\u001b[0m         \u001b[0mfull_backward_hooks\u001b[0m\u001b[0;34m,\u001b[0m \u001b[0mnon_full_backward_hooks\u001b[0m \u001b[0;34m=\u001b[0m \u001b[0;34m[\u001b[0m\u001b[0;34m]\u001b[0m\u001b[0;34m,\u001b[0m \u001b[0;34m[\u001b[0m\u001b[0;34m]\u001b[0m\u001b[0;34m\u001b[0m\u001b[0;34m\u001b[0m\u001b[0m\n",
            "\u001b[0;32m<ipython-input-24-88592de994cc>\u001b[0m in \u001b[0;36mforward\u001b[0;34m(self, image, move)\u001b[0m\n\u001b[1;32m     40\u001b[0m     \u001b[0;32mdef\u001b[0m \u001b[0mforward\u001b[0m\u001b[0;34m(\u001b[0m\u001b[0mself\u001b[0m\u001b[0;34m,\u001b[0m\u001b[0mimage\u001b[0m\u001b[0;34m,\u001b[0m\u001b[0mmove\u001b[0m\u001b[0;34m)\u001b[0m\u001b[0;34m:\u001b[0m \u001b[0;31m#direction removed\u001b[0m\u001b[0;34m\u001b[0m\u001b[0;34m\u001b[0m\u001b[0m\n\u001b[1;32m     41\u001b[0m         \u001b[0;31m#conv layer\u001b[0m\u001b[0;34m\u001b[0m\u001b[0;34m\u001b[0m\u001b[0;34m\u001b[0m\u001b[0m\n\u001b[0;32m---> 42\u001b[0;31m         \u001b[0mx1\u001b[0m \u001b[0;34m=\u001b[0m \u001b[0mself\u001b[0m\u001b[0;34m.\u001b[0m\u001b[0mconv1\u001b[0m\u001b[0;34m(\u001b[0m\u001b[0mimage\u001b[0m\u001b[0;34m)\u001b[0m\u001b[0;34m\u001b[0m\u001b[0;34m\u001b[0m\u001b[0m\n\u001b[0m\u001b[1;32m     43\u001b[0m         \u001b[0mx1\u001b[0m \u001b[0;34m=\u001b[0m \u001b[0mself\u001b[0m\u001b[0;34m.\u001b[0m\u001b[0mrelu\u001b[0m\u001b[0;34m(\u001b[0m\u001b[0mx1\u001b[0m\u001b[0;34m)\u001b[0m\u001b[0;34m\u001b[0m\u001b[0;34m\u001b[0m\u001b[0m\n\u001b[1;32m     44\u001b[0m         \u001b[0mx2\u001b[0m \u001b[0;34m=\u001b[0m \u001b[0mself\u001b[0m\u001b[0;34m.\u001b[0m\u001b[0mconv2\u001b[0m\u001b[0;34m(\u001b[0m\u001b[0mimage\u001b[0m\u001b[0;34m)\u001b[0m\u001b[0;34m\u001b[0m\u001b[0;34m\u001b[0m\u001b[0m\n",
            "\u001b[0;32m/usr/local/lib/python3.7/dist-packages/torch/nn/modules/module.py\u001b[0m in \u001b[0;36m_call_impl\u001b[0;34m(self, *input, **kwargs)\u001b[0m\n\u001b[1;32m   1049\u001b[0m         if not (self._backward_hooks or self._forward_hooks or self._forward_pre_hooks or _global_backward_hooks\n\u001b[1;32m   1050\u001b[0m                 or _global_forward_hooks or _global_forward_pre_hooks):\n\u001b[0;32m-> 1051\u001b[0;31m             \u001b[0;32mreturn\u001b[0m \u001b[0mforward_call\u001b[0m\u001b[0;34m(\u001b[0m\u001b[0;34m*\u001b[0m\u001b[0minput\u001b[0m\u001b[0;34m,\u001b[0m \u001b[0;34m**\u001b[0m\u001b[0mkwargs\u001b[0m\u001b[0;34m)\u001b[0m\u001b[0;34m\u001b[0m\u001b[0;34m\u001b[0m\u001b[0m\n\u001b[0m\u001b[1;32m   1052\u001b[0m         \u001b[0;31m# Do not call functions when jit is used\u001b[0m\u001b[0;34m\u001b[0m\u001b[0;34m\u001b[0m\u001b[0;34m\u001b[0m\u001b[0m\n\u001b[1;32m   1053\u001b[0m         \u001b[0mfull_backward_hooks\u001b[0m\u001b[0;34m,\u001b[0m \u001b[0mnon_full_backward_hooks\u001b[0m \u001b[0;34m=\u001b[0m \u001b[0;34m[\u001b[0m\u001b[0;34m]\u001b[0m\u001b[0;34m,\u001b[0m \u001b[0;34m[\u001b[0m\u001b[0;34m]\u001b[0m\u001b[0;34m\u001b[0m\u001b[0;34m\u001b[0m\u001b[0m\n",
            "\u001b[0;32m/usr/local/lib/python3.7/dist-packages/torch/nn/modules/conv.py\u001b[0m in \u001b[0;36mforward\u001b[0;34m(self, input)\u001b[0m\n\u001b[1;32m    441\u001b[0m \u001b[0;34m\u001b[0m\u001b[0m\n\u001b[1;32m    442\u001b[0m     \u001b[0;32mdef\u001b[0m \u001b[0mforward\u001b[0m\u001b[0;34m(\u001b[0m\u001b[0mself\u001b[0m\u001b[0;34m,\u001b[0m \u001b[0minput\u001b[0m\u001b[0;34m:\u001b[0m \u001b[0mTensor\u001b[0m\u001b[0;34m)\u001b[0m \u001b[0;34m->\u001b[0m \u001b[0mTensor\u001b[0m\u001b[0;34m:\u001b[0m\u001b[0;34m\u001b[0m\u001b[0;34m\u001b[0m\u001b[0m\n\u001b[0;32m--> 443\u001b[0;31m         \u001b[0;32mreturn\u001b[0m \u001b[0mself\u001b[0m\u001b[0;34m.\u001b[0m\u001b[0m_conv_forward\u001b[0m\u001b[0;34m(\u001b[0m\u001b[0minput\u001b[0m\u001b[0;34m,\u001b[0m \u001b[0mself\u001b[0m\u001b[0;34m.\u001b[0m\u001b[0mweight\u001b[0m\u001b[0;34m,\u001b[0m \u001b[0mself\u001b[0m\u001b[0;34m.\u001b[0m\u001b[0mbias\u001b[0m\u001b[0;34m)\u001b[0m\u001b[0;34m\u001b[0m\u001b[0;34m\u001b[0m\u001b[0m\n\u001b[0m\u001b[1;32m    444\u001b[0m \u001b[0;34m\u001b[0m\u001b[0m\n\u001b[1;32m    445\u001b[0m \u001b[0;32mclass\u001b[0m \u001b[0mConv3d\u001b[0m\u001b[0;34m(\u001b[0m\u001b[0m_ConvNd\u001b[0m\u001b[0;34m)\u001b[0m\u001b[0;34m:\u001b[0m\u001b[0;34m\u001b[0m\u001b[0;34m\u001b[0m\u001b[0m\n",
            "\u001b[0;32m/usr/local/lib/python3.7/dist-packages/torch/nn/modules/conv.py\u001b[0m in \u001b[0;36m_conv_forward\u001b[0;34m(self, input, weight, bias)\u001b[0m\n\u001b[1;32m    438\u001b[0m                             _pair(0), self.dilation, self.groups)\n\u001b[1;32m    439\u001b[0m         return F.conv2d(input, weight, bias, self.stride,\n\u001b[0;32m--> 440\u001b[0;31m                         self.padding, self.dilation, self.groups)\n\u001b[0m\u001b[1;32m    441\u001b[0m \u001b[0;34m\u001b[0m\u001b[0m\n\u001b[1;32m    442\u001b[0m     \u001b[0;32mdef\u001b[0m \u001b[0mforward\u001b[0m\u001b[0;34m(\u001b[0m\u001b[0mself\u001b[0m\u001b[0;34m,\u001b[0m \u001b[0minput\u001b[0m\u001b[0;34m:\u001b[0m \u001b[0mTensor\u001b[0m\u001b[0;34m)\u001b[0m \u001b[0;34m->\u001b[0m \u001b[0mTensor\u001b[0m\u001b[0;34m:\u001b[0m\u001b[0;34m\u001b[0m\u001b[0;34m\u001b[0m\u001b[0m\n",
            "\u001b[0;31mRuntimeError\u001b[0m: Expected all tensors to be on the same device, but found at least two devices, cpu and cuda:0! (when checking arugment for argument weight in method wrapper_thnn_conv2d_forward)"
          ]
        }
      ]
    },
    {
      "cell_type": "markdown",
      "metadata": {
        "id": "yj9FKcJeIj66"
      },
      "source": [
        "Old Code"
      ]
    },
    {
      "cell_type": "code",
      "metadata": {
        "id": "mEXvB9PqIkjm"
      },
      "source": [
        "def CreateImagesAllGamesONEFRAME(array_max, data):\n",
        "  \n",
        "      def CreateImageForOneGameOneFrame(array_max, instance,data): #instance x 20x20 (two arrays)\n",
        "          ThisDictBody = TurnDictKeysToInt(data,instance,'body')\n",
        "          ThisDictFood = TurnDictKeysToInt(data,instance,'FoodPos')\n",
        "          plays = len(ThisDictBody)\n",
        "          image = np.zeros((plays,1,20,20))\n",
        "\n",
        "          for key, value in ThisDictBody.items():\n",
        "              for idx, point in enumerate(value):\n",
        "                  y = 20-point[0] #-1 because the stored array starts at 1, instead of 0\n",
        "                  x = point[1]-1\n",
        "                  if idx != 0:            #tail\n",
        "                      image[int(key),0,y,x] = -1\n",
        "                  if idx == 0:            #head\n",
        "                      image[int(key),0,y,x] =1         \n",
        "\n",
        "          for key, value in ThisDictFood.items():    #food\n",
        "              y = 20-value[0] #-1 because the stored array starts at 1, instead of 0\n",
        "              x = value[1]-1\n",
        "              image[int(key),0,y,x] = 10\n",
        "\n",
        "          return image\n",
        "        \n",
        "      AllGamesImage = np.zeros((array_max,1,20,20))\n",
        "      frames_start=0\n",
        "      for game in data.keys():\n",
        "          tempArray = CreateImageForOneGameOneFrame(array_max, game,data) \n",
        "          frames_end = frames_start+ (len(tempArray)) #to create start and end for storing the x values\n",
        "          #if there are two many values compared to max array\n",
        "          if frames_end > array_max:\n",
        "              return AllGamesImage, frames_start\n",
        "              print('error here')\n",
        "          AllGamesImage[frames_start:frames_end] = tempArray\n",
        "          frames_start = frames_end #set frames start to frames end for next iteration\n",
        "      print(AllGamesImage.shape,'imageshapewhenreturning')\n",
        "      print(frames_end)\n",
        "      return AllGamesImage, frames_end"
      ],
      "execution_count": null,
      "outputs": []
    },
    {
      "cell_type": "code",
      "metadata": {
        "id": "v8iSBLXTtI5D"
      },
      "source": [
        "# EatReward = 3\n",
        "# DieReward = -1\n",
        "# FutureReward = 0\n",
        "# DecayRate, period = 0.25, 3\n",
        "\n",
        "# TimerStart = time.time()\n",
        "\n",
        "# Images,frames =  CreateImagesAllGamesMANYFRAMES(150000,data)\n",
        "\n",
        "# FirstPersonMoves = CreateDirectionArrayManyGames(data,'FaceDirectionChoice',3)\n",
        "# CompassMoves = CreateDirectionArrayManyGames(data,'CompassDirectionChoice',4)\n",
        "# DirectionPointing = CreateDirectionArrayManyGames(data,'StartingDirection',4)\n",
        "\n",
        "# reward = CreateBigArrayofRewardFromManyGames(data,EatReward,DieReward, FutureReward, DecayRate, period)\n",
        "# Images, FirstPersonMoves, reward, DirectionPointing, CompassMoves =Images[:frames], FirstPersonMoves[:frames], reward[:frames], DirectionPointing[:frames], CompassMoves[:frames]\n",
        "# print(f'Time Taken: {int(time.time()-TimerStart)}')"
      ],
      "execution_count": null,
      "outputs": []
    }
  ]
}